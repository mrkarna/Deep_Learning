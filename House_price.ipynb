{
 "cells": [
  {
   "cell_type": "code",
   "execution_count": 33,
   "metadata": {},
   "outputs": [],
   "source": [
    "from keras.datasets import boston_housing"
   ]
  },
  {
   "cell_type": "code",
   "execution_count": 34,
   "metadata": {},
   "outputs": [],
   "source": [
    "(train_data, train_targets), (test_data, test_targets) = boston_housing.load_data()"
   ]
  },
  {
   "cell_type": "code",
   "execution_count": 35,
   "metadata": {},
   "outputs": [
    {
     "data": {
      "text/plain": [
       "(404, 13)"
      ]
     },
     "execution_count": 35,
     "metadata": {},
     "output_type": "execute_result"
    }
   ],
   "source": [
    "train_data.shape"
   ]
  },
  {
   "cell_type": "code",
   "execution_count": 36,
   "metadata": {},
   "outputs": [
    {
     "data": {
      "text/plain": [
       "13"
      ]
     },
     "execution_count": 36,
     "metadata": {},
     "output_type": "execute_result"
    }
   ],
   "source": [
    "train_data.shape[1]"
   ]
  },
  {
   "cell_type": "code",
   "execution_count": 37,
   "metadata": {},
   "outputs": [
    {
     "data": {
      "text/plain": [
       "(102, 13)"
      ]
     },
     "execution_count": 37,
     "metadata": {},
     "output_type": "execute_result"
    }
   ],
   "source": [
    "test_data.shape"
   ]
  },
  {
   "cell_type": "code",
   "execution_count": 38,
   "metadata": {},
   "outputs": [
    {
     "data": {
      "text/plain": [
       "(404,)"
      ]
     },
     "execution_count": 38,
     "metadata": {},
     "output_type": "execute_result"
    }
   ],
   "source": [
    "train_targets.shape"
   ]
  },
  {
   "cell_type": "code",
   "execution_count": 39,
   "metadata": {},
   "outputs": [
    {
     "data": {
      "text/plain": [
       "(102,)"
      ]
     },
     "execution_count": 39,
     "metadata": {},
     "output_type": "execute_result"
    }
   ],
   "source": [
    "test_targets.shape"
   ]
  },
  {
   "cell_type": "code",
   "execution_count": 40,
   "metadata": {},
   "outputs": [],
   "source": [
    "from keras import layers\n",
    "from keras import models"
   ]
  },
  {
   "cell_type": "code",
   "execution_count": 41,
   "metadata": {},
   "outputs": [],
   "source": [
    "model = models.Sequential()\n",
    "model.add(layers.Dense(64, activation='relu', input_shape=(13,)))\n",
    "model.add(layers.Dense(64, activation='relu'))\n",
    "model.add(layers.Dense(1))"
   ]
  },
  {
   "cell_type": "code",
   "execution_count": 42,
   "metadata": {},
   "outputs": [],
   "source": [
    "model.compile(optimizer='rmsprop', loss='mse', metrics=['mae'])"
   ]
  },
  {
   "cell_type": "code",
   "execution_count": 43,
   "metadata": {},
   "outputs": [
    {
     "name": "stdout",
     "output_type": "stream",
     "text": [
      "Epoch 1/100\n",
      "404/404 [==============================] - 0s 245us/step - loss: 596.4102 - mean_absolute_error: 16.8885\n",
      "Epoch 2/100\n",
      "404/404 [==============================] - 0s 69us/step - loss: 220.0658 - mean_absolute_error: 12.6181\n",
      "Epoch 3/100\n",
      "404/404 [==============================] - 0s 56us/step - loss: 117.5982 - mean_absolute_error: 8.4255\n",
      "Epoch 4/100\n",
      "404/404 [==============================] - 0s 60us/step - loss: 205.5260 - mean_absolute_error: 11.6725\n",
      "Epoch 5/100\n",
      "404/404 [==============================] - 0s 52us/step - loss: 82.5237 - mean_absolute_error: 6.9263\n",
      "Epoch 6/100\n",
      "404/404 [==============================] - 0s 65us/step - loss: 191.6173 - mean_absolute_error: 11.7259\n",
      "Epoch 7/100\n",
      "404/404 [==============================] - 0s 52us/step - loss: 108.9738 - mean_absolute_error: 8.3359\n",
      "Epoch 8/100\n",
      "404/404 [==============================] - 0s 61us/step - loss: 193.7402 - mean_absolute_error: 11.5820\n",
      "Epoch 9/100\n",
      "404/404 [==============================] - 0s 55us/step - loss: 57.1753 - mean_absolute_error: 5.1488\n",
      "Epoch 10/100\n",
      "404/404 [==============================] - 0s 73us/step - loss: 202.3014 - mean_absolute_error: 10.9148\n",
      "Epoch 11/100\n",
      "404/404 [==============================] - 0s 47us/step - loss: 84.2122 - mean_absolute_error: 6.9356\n",
      "Epoch 12/100\n",
      "404/404 [==============================] - 0s 55us/step - loss: 184.7160 - mean_absolute_error: 11.2507\n",
      "Epoch 13/100\n",
      "404/404 [==============================] - 0s 57us/step - loss: 136.2773 - mean_absolute_error: 9.3188\n",
      "Epoch 14/100\n",
      "404/404 [==============================] - 0s 46us/step - loss: 116.0759 - mean_absolute_error: 8.4114\n",
      "Epoch 15/100\n",
      "404/404 [==============================] - 0s 41us/step - loss: 169.1988 - mean_absolute_error: 9.9982\n",
      "Epoch 16/100\n",
      "404/404 [==============================] - 0s 54us/step - loss: 76.6770 - mean_absolute_error: 6.4016\n",
      "Epoch 17/100\n",
      "404/404 [==============================] - 0s 38us/step - loss: 148.1678 - mean_absolute_error: 9.1419\n",
      "Epoch 18/100\n",
      "404/404 [==============================] - 0s 47us/step - loss: 112.0575 - mean_absolute_error: 8.2712\n",
      "Epoch 19/100\n",
      "404/404 [==============================] - 0s 66us/step - loss: 160.5331 - mean_absolute_error: 10.4510\n",
      "Epoch 20/100\n",
      "404/404 [==============================] - 0s 28us/step - loss: 169.7432 - mean_absolute_error: 10.9717\n",
      "Epoch 21/100\n",
      "404/404 [==============================] - 0s 29us/step - loss: 52.7503 - mean_absolute_error: 5.1074\n",
      "Epoch 22/100\n",
      "404/404 [==============================] - 0s 44us/step - loss: 164.4077 - mean_absolute_error: 11.0677\n",
      "Epoch 23/100\n",
      "404/404 [==============================] - 0s 57us/step - loss: 129.8058 - mean_absolute_error: 9.2071\n",
      "Epoch 24/100\n",
      "404/404 [==============================] - 0s 59us/step - loss: 53.1860 - mean_absolute_error: 5.2413\n",
      "Epoch 25/100\n",
      "404/404 [==============================] - 0s 33us/step - loss: 175.7719 - mean_absolute_error: 11.4794\n",
      "Epoch 26/100\n",
      "404/404 [==============================] - 0s 29us/step - loss: 94.7106 - mean_absolute_error: 7.6684\n",
      "Epoch 27/100\n",
      "404/404 [==============================] - 0s 33us/step - loss: 161.6653 - mean_absolute_error: 10.6510\n",
      "Epoch 28/100\n",
      "404/404 [==============================] - 0s 49us/step - loss: 71.1265 - mean_absolute_error: 6.3663\n",
      "Epoch 29/100\n",
      "404/404 [==============================] - 0s 37us/step - loss: 81.8649 - mean_absolute_error: 6.6511\n",
      "Epoch 30/100\n",
      "404/404 [==============================] - 0s 36us/step - loss: 98.2102 - mean_absolute_error: 7.4488\n",
      "Epoch 31/100\n",
      "404/404 [==============================] - 0s 34us/step - loss: 92.6609 - mean_absolute_error: 7.7190\n",
      "Epoch 32/100\n",
      "404/404 [==============================] - 0s 40us/step - loss: 143.8930 - mean_absolute_error: 7.9702\n",
      "Epoch 33/100\n",
      "404/404 [==============================] - 0s 32us/step - loss: 55.2940 - mean_absolute_error: 5.3938\n",
      "Epoch 34/100\n",
      "404/404 [==============================] - 0s 43us/step - loss: 127.5545 - mean_absolute_error: 9.5376\n",
      "Epoch 35/100\n",
      "404/404 [==============================] - 0s 32us/step - loss: 105.0054 - mean_absolute_error: 8.2801\n",
      "Epoch 36/100\n",
      "404/404 [==============================] - 0s 32us/step - loss: 70.3997 - mean_absolute_error: 6.1870\n",
      "Epoch 37/100\n",
      "404/404 [==============================] - 0s 29us/step - loss: 103.8193 - mean_absolute_error: 8.0102\n",
      "Epoch 38/100\n",
      "404/404 [==============================] - 0s 31us/step - loss: 102.3729 - mean_absolute_error: 8.2948\n",
      "Epoch 39/100\n",
      "404/404 [==============================] - 0s 37us/step - loss: 122.7096 - mean_absolute_error: 8.5540\n",
      "Epoch 40/100\n",
      "404/404 [==============================] - 0s 35us/step - loss: 63.4457 - mean_absolute_error: 5.9023\n",
      "Epoch 41/100\n",
      "404/404 [==============================] - 0s 47us/step - loss: 124.3908 - mean_absolute_error: 8.9957\n",
      "Epoch 42/100\n",
      "404/404 [==============================] - 0s 40us/step - loss: 92.3031 - mean_absolute_error: 7.2587\n",
      "Epoch 43/100\n",
      "404/404 [==============================] - 0s 35us/step - loss: 44.3897 - mean_absolute_error: 4.6888\n",
      "Epoch 44/100\n",
      "404/404 [==============================] - 0s 35us/step - loss: 138.3862 - mean_absolute_error: 9.1401\n",
      "Epoch 45/100\n",
      "404/404 [==============================] - 0s 29us/step - loss: 102.6408 - mean_absolute_error: 8.0230\n",
      "Epoch 46/100\n",
      "404/404 [==============================] - 0s 33us/step - loss: 76.7081 - mean_absolute_error: 6.7707\n",
      "Epoch 47/100\n",
      "404/404 [==============================] - 0s 50us/step - loss: 96.5284 - mean_absolute_error: 7.8225\n",
      "Epoch 48/100\n",
      "404/404 [==============================] - 0s 36us/step - loss: 89.8314 - mean_absolute_error: 7.6797\n",
      "Epoch 49/100\n",
      "404/404 [==============================] - 0s 39us/step - loss: 115.3344 - mean_absolute_error: 8.5497\n",
      "Epoch 50/100\n",
      "404/404 [==============================] - 0s 44us/step - loss: 80.4932 - mean_absolute_error: 6.8557\n",
      "Epoch 51/100\n",
      "404/404 [==============================] - 0s 37us/step - loss: 61.0614 - mean_absolute_error: 5.9439\n",
      "Epoch 52/100\n",
      "404/404 [==============================] - 0s 38us/step - loss: 129.5746 - mean_absolute_error: 9.4111\n",
      "Epoch 53/100\n",
      "404/404 [==============================] - 0s 45us/step - loss: 47.5614 - mean_absolute_error: 4.7849\n",
      "Epoch 54/100\n",
      "404/404 [==============================] - 0s 36us/step - loss: 103.0847 - mean_absolute_error: 7.0731\n",
      "Epoch 55/100\n",
      "404/404 [==============================] - 0s 38us/step - loss: 99.7084 - mean_absolute_error: 7.7240\n",
      "Epoch 56/100\n",
      "404/404 [==============================] - 0s 37us/step - loss: 81.8360 - mean_absolute_error: 6.6925\n",
      "Epoch 57/100\n",
      "404/404 [==============================] - 0s 33us/step - loss: 64.0531 - mean_absolute_error: 6.0238\n",
      "Epoch 58/100\n",
      "404/404 [==============================] - 0s 42us/step - loss: 117.0610 - mean_absolute_error: 8.8124\n",
      "Epoch 59/100\n",
      "404/404 [==============================] - 0s 40us/step - loss: 49.3222 - mean_absolute_error: 5.3442\n",
      "Epoch 60/100\n",
      "404/404 [==============================] - 0s 34us/step - loss: 109.1946 - mean_absolute_error: 8.8437\n",
      "Epoch 61/100\n",
      "404/404 [==============================] - 0s 34us/step - loss: 53.9456 - mean_absolute_error: 5.2162\n",
      "Epoch 62/100\n",
      "404/404 [==============================] - 0s 39us/step - loss: 107.4709 - mean_absolute_error: 8.4285\n",
      "Epoch 63/100\n",
      "404/404 [==============================] - 0s 35us/step - loss: 80.2100 - mean_absolute_error: 6.9821\n",
      "Epoch 64/100\n",
      "404/404 [==============================] - 0s 37us/step - loss: 101.1782 - mean_absolute_error: 8.3544\n",
      "Epoch 65/100\n",
      "404/404 [==============================] - 0s 51us/step - loss: 63.2454 - mean_absolute_error: 6.1299\n",
      "Epoch 66/100\n",
      "404/404 [==============================] - 0s 39us/step - loss: 100.4887 - mean_absolute_error: 7.8882\n",
      "Epoch 67/100\n",
      "404/404 [==============================] - 0s 40us/step - loss: 56.6311 - mean_absolute_error: 5.7507\n",
      "Epoch 68/100\n",
      "404/404 [==============================] - 0s 37us/step - loss: 100.4481 - mean_absolute_error: 8.1945\n",
      "Epoch 69/100\n",
      "404/404 [==============================] - 0s 38us/step - loss: 59.2996 - mean_absolute_error: 5.6420\n",
      "Epoch 70/100\n",
      "404/404 [==============================] - 0s 40us/step - loss: 116.3609 - mean_absolute_error: 8.5074\n",
      "Epoch 71/100\n",
      "404/404 [==============================] - 0s 39us/step - loss: 50.2038 - mean_absolute_error: 5.2704\n",
      "Epoch 72/100\n",
      "404/404 [==============================] - 0s 32us/step - loss: 95.2732 - mean_absolute_error: 8.1311\n",
      "Epoch 73/100\n",
      "404/404 [==============================] - 0s 30us/step - loss: 71.2433 - mean_absolute_error: 6.1963\n",
      "Epoch 74/100\n",
      "404/404 [==============================] - 0s 33us/step - loss: 75.6843 - mean_absolute_error: 6.5814\n",
      "Epoch 75/100\n",
      "404/404 [==============================] - 0s 36us/step - loss: 41.3163 - mean_absolute_error: 4.5959\n",
      "Epoch 76/100\n",
      "404/404 [==============================] - 0s 31us/step - loss: 105.8178 - mean_absolute_error: 7.9069\n",
      "Epoch 77/100\n",
      "404/404 [==============================] - 0s 34us/step - loss: 84.0403 - mean_absolute_error: 7.4093\n",
      "Epoch 78/100\n",
      "404/404 [==============================] - 0s 40us/step - loss: 57.8064 - mean_absolute_error: 5.7071\n",
      "Epoch 79/100\n",
      "404/404 [==============================] - 0s 40us/step - loss: 99.2402 - mean_absolute_error: 7.4756\n",
      "Epoch 80/100\n",
      "404/404 [==============================] - 0s 42us/step - loss: 43.7229 - mean_absolute_error: 4.5471\n",
      "Epoch 81/100\n",
      "404/404 [==============================] - 0s 39us/step - loss: 60.2073 - mean_absolute_error: 6.0367\n",
      "Epoch 82/100\n",
      "404/404 [==============================] - 0s 37us/step - loss: 60.1325 - mean_absolute_error: 5.7847\n",
      "Epoch 83/100\n",
      "404/404 [==============================] - 0s 46us/step - loss: 83.0486 - mean_absolute_error: 6.9433\n",
      "Epoch 84/100\n",
      "404/404 [==============================] - 0s 41us/step - loss: 57.0858 - mean_absolute_error: 5.5854\n",
      "Epoch 85/100\n",
      "404/404 [==============================] - 0s 33us/step - loss: 81.4909 - mean_absolute_error: 7.0267\n",
      "Epoch 86/100\n",
      "404/404 [==============================] - 0s 34us/step - loss: 41.1221 - mean_absolute_error: 4.6764\n",
      "Epoch 87/100\n",
      "404/404 [==============================] - 0s 41us/step - loss: 91.3971 - mean_absolute_error: 7.3224\n",
      "Epoch 88/100\n",
      "404/404 [==============================] - 0s 38us/step - loss: 76.8013 - mean_absolute_error: 6.1166\n",
      "Epoch 89/100\n",
      "404/404 [==============================] - 0s 39us/step - loss: 53.6035 - mean_absolute_error: 5.6088\n",
      "Epoch 90/100\n",
      "404/404 [==============================] - 0s 38us/step - loss: 76.0165 - mean_absolute_error: 7.1131\n",
      "Epoch 91/100\n",
      "404/404 [==============================] - 0s 38us/step - loss: 78.3846 - mean_absolute_error: 7.0490\n",
      "Epoch 92/100\n",
      "404/404 [==============================] - 0s 31us/step - loss: 75.1267 - mean_absolute_error: 6.9593\n",
      "Epoch 93/100\n",
      "404/404 [==============================] - 0s 36us/step - loss: 52.8415 - mean_absolute_error: 5.4587\n",
      "Epoch 94/100\n",
      "404/404 [==============================] - 0s 37us/step - loss: 65.4314 - mean_absolute_error: 6.3326\n",
      "Epoch 95/100\n",
      "404/404 [==============================] - 0s 35us/step - loss: 79.7519 - mean_absolute_error: 7.2355\n",
      "Epoch 96/100\n",
      "404/404 [==============================] - 0s 44us/step - loss: 43.9903 - mean_absolute_error: 5.0027\n",
      "Epoch 97/100\n",
      "404/404 [==============================] - 0s 37us/step - loss: 85.3833 - mean_absolute_error: 7.5090\n",
      "Epoch 98/100\n",
      "404/404 [==============================] - 0s 38us/step - loss: 38.1432 - mean_absolute_error: 4.3152\n",
      "Epoch 99/100\n",
      "404/404 [==============================] - 0s 39us/step - loss: 88.8866 - mean_absolute_error: 7.6784\n",
      "Epoch 100/100\n",
      "404/404 [==============================] - 0s 35us/step - loss: 66.5178 - mean_absolute_error: 6.1976\n"
     ]
    },
    {
     "data": {
      "text/plain": [
       "<keras.callbacks.History at 0x7f7652d07b38>"
      ]
     },
     "execution_count": 43,
     "metadata": {},
     "output_type": "execute_result"
    }
   ],
   "source": [
    "model.fit(train_data, train_targets, epochs=100, batch_size=50)"
   ]
  },
  {
   "cell_type": "code",
   "execution_count": 44,
   "metadata": {},
   "outputs": [
    {
     "name": "stdout",
     "output_type": "stream",
     "text": [
      "102/102 [==============================] - 0s 366us/step\n"
     ]
    }
   ],
   "source": [
    "test_mse_score, test_mae = model.evaluate(test_data, test_targets)"
   ]
  },
  {
   "cell_type": "code",
   "execution_count": 45,
   "metadata": {},
   "outputs": [
    {
     "data": {
      "text/plain": [
       "114.15832684086818"
      ]
     },
     "execution_count": 45,
     "metadata": {},
     "output_type": "execute_result"
    }
   ],
   "source": [
    "test_mse_score"
   ]
  },
  {
   "cell_type": "code",
   "execution_count": 46,
   "metadata": {},
   "outputs": [
    {
     "data": {
      "text/plain": [
       "9.7571435909645228"
      ]
     },
     "execution_count": 46,
     "metadata": {},
     "output_type": "execute_result"
    }
   ],
   "source": [
    "test_mae"
   ]
  },
  {
   "cell_type": "code",
   "execution_count": null,
   "metadata": {},
   "outputs": [],
   "source": []
  }
 ],
 "metadata": {
  "kernelspec": {
   "display_name": "Python 3",
   "language": "python",
   "name": "python3"
  },
  "language_info": {
   "codemirror_mode": {
    "name": "ipython",
    "version": 3
   },
   "file_extension": ".py",
   "mimetype": "text/x-python",
   "name": "python",
   "nbconvert_exporter": "python",
   "pygments_lexer": "ipython3",
   "version": "3.5.2"
  }
 },
 "nbformat": 4,
 "nbformat_minor": 2
}
